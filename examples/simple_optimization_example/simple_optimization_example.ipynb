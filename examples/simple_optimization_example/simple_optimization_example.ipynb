{
 "cells": [
  {
   "cell_type": "markdown",
   "metadata": {},
   "source": [
    "# Simple Water Rocket Optimization Example\n",
    "\n",
    "This notebook demonstrates basic usage of the water rocket optimizer to find optimal parameters for maximum altitude."
   ]
  },
  {
   "cell_type": "code",
   "execution_count": 1,
   "metadata": {},
   "outputs": [
    {
     "name": "stdout",
     "output_type": "stream",
     "text": [
      "Water Rocket Optimization Example\n",
      "========================================\n"
     ]
    }
   ],
   "source": [
    "from waterrocketpy.optimization.water_rocket_optimizer import optimize_for_altitude\n",
    "\n",
    "print(\"Water Rocket Optimization Example\")\n",
    "print(\"=\" * 40)"
   ]
  },
  {
   "cell_type": "markdown",
   "metadata": {},
   "source": [
    "## Optimize for Maximum Altitude\n",
    "\n",
    "Run optimization with default parameter bounds to find the rocket configuration that achieves maximum altitude."
   ]
  },
  {
   "cell_type": "code",
   "execution_count": 2,
   "metadata": {},
   "outputs": [
    {
     "name": "stdout",
     "output_type": "stream",
     "text": [
      "Optimizing for maximum altitude...\n",
      "Starting optimization for max_altitude using differential_evolution\n",
      "Parameter bounds: [(0.1, 0.5), (0.05, 0.12), (2.0, 12.0), (0.005, 0.025), (0.1, 0.8)]\n",
      "New best max_altitude: 4.1604 at evaluation 1\n",
      "  Params: L_body=0.102, d_body=0.065, p_max=2.5bar, nozzle_d=0.0183, water_frac=0.513\n",
      "New best max_altitude: 103.8004 at evaluation 2\n",
      "  Params: L_body=0.241, d_body=0.113, p_max=11.2bar, nozzle_d=0.0146, water_frac=0.438\n",
      "New best max_altitude: 123.2071 at evaluation 3\n",
      "  Params: L_body=0.495, d_body=0.090, p_max=11.9bar, nozzle_d=0.0069, water_frac=0.364\n",
      "New best max_altitude: 123.5837 at evaluation 31\n",
      "  Params: L_body=0.482, d_body=0.106, p_max=10.1bar, nozzle_d=0.0159, water_frac=0.389\n",
      "New best max_altitude: 127.3809 at evaluation 86\n",
      "  Params: L_body=0.495, d_body=0.118, p_max=10.2bar, nozzle_d=0.0196, water_frac=0.406\n",
      "differential_evolution step 1: f(x)= -127.38086702551217\n",
      "New best max_altitude: 137.7603 at evaluation 151\n",
      "  Params: L_body=0.478, d_body=0.109, p_max=12.0bar, nozzle_d=0.0124, water_frac=0.340\n",
      "New best max_altitude: 138.5028 at evaluation 194\n",
      "  Params: L_body=0.489, d_body=0.115, p_max=11.2bar, nozzle_d=0.0227, water_frac=0.285\n",
      "differential_evolution step 2: f(x)= -138.5028028381849\n",
      "New best max_altitude: 140.6326 at evaluation 240\n",
      "  Params: L_body=0.466, d_body=0.114, p_max=11.7bar, nozzle_d=0.0246, water_frac=0.344\n",
      "differential_evolution step 3: f(x)= -140.63264569280034\n",
      "differential_evolution step 4: f(x)= -140.63264569280034\n",
      "differential_evolution step 5: f(x)= -140.63264569280034\n",
      "New best max_altitude: 141.0108 at evaluation 521\n",
      "  Params: L_body=0.452, d_body=0.120, p_max=12.0bar, nozzle_d=0.0239, water_frac=0.373\n",
      "differential_evolution step 6: f(x)= -141.0107973655383\n",
      "New best max_altitude: 142.3291 at evaluation 534\n",
      "  Params: L_body=0.490, d_body=0.113, p_max=11.8bar, nozzle_d=0.0236, water_frac=0.358\n",
      "New best max_altitude: 142.6553 at evaluation 591\n",
      "  Params: L_body=0.497, d_body=0.110, p_max=12.0bar, nozzle_d=0.0185, water_frac=0.331\n",
      "differential_evolution step 7: f(x)= -142.65533252544697\n",
      "New best max_altitude: 145.4394 at evaluation 601\n",
      "  Params: L_body=0.500, d_body=0.117, p_max=12.0bar, nozzle_d=0.0228, water_frac=0.331\n",
      "differential_evolution step 8: f(x)= -145.43937575135598\n",
      "New best max_altitude: 145.5610 at evaluation 693\n",
      "  Params: L_body=0.497, d_body=0.118, p_max=12.0bar, nozzle_d=0.0235, water_frac=0.337\n",
      "differential_evolution step 9: f(x)= -145.56102074027604\n",
      "differential_evolution step 10: f(x)= -145.56102074027604\n",
      "differential_evolution step 11: f(x)= -145.56102074027604\n",
      "differential_evolution step 12: f(x)= -145.56102074027604\n",
      "differential_evolution step 13: f(x)= -145.56102074027604\n",
      "differential_evolution step 14: f(x)= -145.56102074027604\n",
      "differential_evolution step 15: f(x)= -145.56102074027604\n",
      "differential_evolution step 16: f(x)= -145.56102074027604\n",
      "differential_evolution step 17: f(x)= -145.56102074027604\n",
      "differential_evolution step 18: f(x)= -145.56102074027604\n",
      "New best max_altitude: 145.7171 at evaluation 1471\n",
      "  Params: L_body=0.497, d_body=0.118, p_max=12.0bar, nozzle_d=0.0248, water_frac=0.333\n",
      "differential_evolution step 19: f(x)= -145.71711930769237\n",
      "differential_evolution step 20: f(x)= -145.71711930769237\n",
      "differential_evolution step 21: f(x)= -145.71711930769237\n",
      "New best max_altitude: 145.8152 at evaluation 1661\n",
      "  Params: L_body=0.499, d_body=0.117, p_max=12.0bar, nozzle_d=0.0241, water_frac=0.327\n",
      "differential_evolution step 22: f(x)= -145.81516933225515\n",
      "differential_evolution step 23: f(x)= -145.81516933225515\n",
      "differential_evolution step 24: f(x)= -145.81516933225515\n",
      "New best max_altitude: 145.8760 at evaluation 1901\n",
      "  Params: L_body=0.498, d_body=0.119, p_max=12.0bar, nozzle_d=0.0228, water_frac=0.320\n",
      "New best max_altitude: 146.0248 at evaluation 1948\n",
      "  Params: L_body=0.497, d_body=0.120, p_max=12.0bar, nozzle_d=0.0237, water_frac=0.328\n",
      "differential_evolution step 25: f(x)= -146.0247567568426\n",
      "New best max_altitude: 146.1136 at evaluation 1957\n",
      "  Params: L_body=0.500, d_body=0.120, p_max=12.0bar, nozzle_d=0.0232, water_frac=0.324\n",
      "differential_evolution step 26: f(x)= -146.1136005898963\n",
      "New best max_altitude: 146.2311 at evaluation 2042\n",
      "  Params: L_body=0.499, d_body=0.120, p_max=12.0bar, nozzle_d=0.0234, water_frac=0.327\n",
      "differential_evolution step 27: f(x)= -146.2310679476626\n",
      "differential_evolution step 28: f(x)= -146.2310679476626\n",
      "Polishing solution with 'L-BFGS-B'\n",
      "New best max_altitude: 146.2311 at evaluation 2177\n",
      "  Params: L_body=0.499, d_body=0.120, p_max=12.0bar, nozzle_d=0.0234, water_frac=0.327\n",
      "New best max_altitude: 146.2311 at evaluation 2178\n",
      "  Params: L_body=0.499, d_body=0.120, p_max=12.0bar, nozzle_d=0.0234, water_frac=0.327\n",
      "New best max_altitude: 146.2429 at evaluation 2188\n",
      "  Params: L_body=0.499, d_body=0.120, p_max=12.0bar, nozzle_d=0.0234, water_frac=0.323\n",
      "New best max_altitude: 146.2429 at evaluation 2189\n",
      "  Params: L_body=0.499, d_body=0.120, p_max=12.0bar, nozzle_d=0.0234, water_frac=0.323\n",
      "New best max_altitude: 146.2429 at evaluation 2190\n",
      "  Params: L_body=0.499, d_body=0.120, p_max=12.0bar, nozzle_d=0.0234, water_frac=0.323\n",
      "New best max_altitude: 146.6261 at evaluation 2194\n",
      "  Params: L_body=0.500, d_body=0.120, p_max=12.0bar, nozzle_d=0.0250, water_frac=0.325\n",
      "New best max_altitude: 146.6261 at evaluation 2199\n",
      "  Params: L_body=0.500, d_body=0.120, p_max=12.0bar, nozzle_d=0.0250, water_frac=0.325\n",
      "New best max_altitude: 146.6261 at evaluation 2200\n",
      "  Params: L_body=0.500, d_body=0.120, p_max=12.0bar, nozzle_d=0.0250, water_frac=0.325\n",
      "New best max_altitude: 146.6261 at evaluation 2205\n",
      "  Params: L_body=0.500, d_body=0.120, p_max=12.0bar, nozzle_d=0.0250, water_frac=0.325\n",
      "New best max_altitude: 146.6261 at evaluation 2212\n",
      "  Params: L_body=0.500, d_body=0.120, p_max=12.0bar, nozzle_d=0.0250, water_frac=0.325\n",
      "New best max_altitude: 146.6261 at evaluation 2217\n",
      "  Params: L_body=0.500, d_body=0.120, p_max=12.0bar, nozzle_d=0.0250, water_frac=0.325\n",
      "\n",
      "Optimization completed!\n",
      "Best max_altitude: 146.6261\n",
      "Best parameters:\n",
      "  L_body: 0.5000\n",
      "  d_body: 0.1200\n",
      "  p_max_bar: 12.0000\n",
      "  nozzle_diameter: 0.0250\n",
      "  water_fraction: 0.3245\n",
      "Optimization completed!\n"
     ]
    }
   ],
   "source": [
    "# Run optimization with default bounds\n",
    "print(\"Optimizing for maximum altitude...\")\n",
    "\n",
    "result = optimize_for_altitude(\n",
    "    maxiter=50,  # Quick optimization for demo\n",
    "    seed=42      # For reproducible results\n",
    ")\n",
    "\n",
    "print(\"Optimization completed!\")"
   ]
  },
  {
   "cell_type": "markdown",
   "metadata": {},
   "source": [
    "## Display Results\n",
    "\n",
    "Show the optimization results including optimal parameters and performance metrics."
   ]
  },
  {
   "cell_type": "code",
   "execution_count": 3,
   "metadata": {},
   "outputs": [
    {
     "name": "stdout",
     "output_type": "stream",
     "text": [
      "Success: True\n",
      "Max altitude achieved: 146.63 m\n",
      "Function evaluations: 2217\n",
      "\n",
      "Optimal parameters:\n",
      "  Body length: 0.500 m (50.0 cm)\n",
      "  Body diameter: 0.1200 m (120.0 mm)\n",
      "  Max pressure: 12.0 bar\n",
      "  Nozzle diameter: 0.0250 m (25.0 mm)\n",
      "  Water fraction: 32.5%\n"
     ]
    }
   ],
   "source": [
    "# Display results\n",
    "print(f\"Success: {result['success']}\")\n",
    "print(f\"Max altitude achieved: {result['best_value']:.2f} m\")\n",
    "print(f\"Function evaluations: {result['n_evaluations']}\")\n",
    "\n",
    "print(\"\\nOptimal parameters:\")\n",
    "params = result['best_params']\n",
    "print(f\"  Body length: {params['L_body']:.3f} m ({params['L_body']*100:.1f} cm)\")\n",
    "print(f\"  Body diameter: {params['d_body']:.4f} m ({params['d_body']*1000:.1f} mm)\")\n",
    "print(f\"  Max pressure: {params['p_max_bar']:.1f} bar\")\n",
    "print(f\"  Nozzle diameter: {params['nozzle_diameter']:.4f} m ({params['nozzle_diameter']*1000:.1f} mm)\")\n",
    "print(f\"  Water fraction: {params['water_fraction']:.1%}\")"
   ]
  },
  {
   "cell_type": "markdown",
   "metadata": {},
   "source": [
    "## Flight Performance Summary\n",
    "\n",
    "Display detailed flight performance metrics for the optimized rocket."
   ]
  },
  {
   "cell_type": "code",
   "execution_count": 4,
   "metadata": {},
   "outputs": [
    {
     "name": "stdout",
     "output_type": "stream",
     "text": [
      "Flight Performance:\n",
      "  Max Altitude        : 146.63 m\n",
      "  Max Velocity        : 60.47 m/s\n",
      "  Flight Time         : 11.03 s\n",
      "  Water Depletion Time: 0.10 s\n"
     ]
    }
   ],
   "source": [
    "if result[\"best_flight_data\"] is not None:\n",
    "    fd = result[\"best_flight_data\"]\n",
    "    print(\"Flight Performance:\")\n",
    "    print(f\"  Max Altitude        : {fd.max_altitude:.2f} m\")\n",
    "    print(f\"  Max Velocity        : {fd.max_velocity:.2f} m/s\")\n",
    "    print(f\"  Flight Time         : {fd.flight_time:.2f} s\")\n",
    "    print(f\"  Water Depletion Time: {fd.water_depletion_time:.2f} s\")"
   ]
  }
 ],
 "metadata": {
  "kernelspec": {
   "display_name": ".venv",
   "language": "python",
   "name": "python3"
  },
  "language_info": {
   "codemirror_mode": {
    "name": "ipython",
    "version": 3
   },
   "file_extension": ".py",
   "mimetype": "text/x-python",
   "name": "python",
   "nbconvert_exporter": "python",
   "pygments_lexer": "ipython3",
   "version": "3.11.9"
  }
 },
 "nbformat": 4,
 "nbformat_minor": 4
}

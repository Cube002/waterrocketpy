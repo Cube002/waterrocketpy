{
 "cells": [
  {
   "cell_type": "code",
   "execution_count": 8,
   "metadata": {},
   "outputs": [
    {
     "data": {
      "text/plain": [
       "'\\nwith this package you can create a water rocket simulation.\\nthere are following modules:\\n- core: contains the main simulation logic\\n- rocket: defines the rocket structure and components\\n- analysis: provides tools for analyzing simulation results\\n- utils: utility functions and classes for saving/loading data\\n- visualization: tools for visualizing simulation data\\n- optimization: tools for optimizing rocket parameters\\n'"
      ]
     },
     "execution_count": 8,
     "metadata": {},
     "output_type": "execute_result"
    }
   ],
   "source": [
    "\"\"\"\n",
    "with this package you can create a water rocket simulation.\n",
    "there are following modules:\n",
    "- core: contains the main simulation logic\n",
    "- rocket: defines the rocket structure and components\n",
    "- analysis: provides tools for analyzing simulation results\n",
    "- utils: utility functions and classes for saving/loading data\n",
    "- visualization: tools for visualizing simulation data\n",
    "- optimization: tools for optimizing rocket parameters\n",
    "\"\"\""
   ]
  },
  {
   "cell_type": "code",
   "execution_count": 9,
   "metadata": {},
   "outputs": [
    {
     "name": "stdout",
     "output_type": "stream",
     "text": [
      "   Rocket created: Standard 2L Rocket\n",
      "   Total mass: 0.910 kg\n"
     ]
    }
   ],
   "source": [
    "\"\"\"Creating a Water Rocket\"\"\"\n",
    "from waterrocketpy.rocket.builder import create_standard_rocket\n",
    "rocket = create_standard_rocket()\n",
    "\n",
    "print(f\"   Rocket created: {rocket.name}\")\n",
    "print(f\"   Total mass: {rocket.total_mass:.3f} kg\")"
   ]
  },
  {
   "cell_type": "code",
   "execution_count": 10,
   "metadata": {},
   "outputs": [
    {
     "name": "stdout",
     "output_type": "stream",
     "text": [
      "\n",
      "2. Converting to simulation parameters...\n",
      "   Parameters ready: 9 parameters\n",
      "\n",
      "3. Running simulation...\n",
      "Starting water expulsion phase...\n",
      "Water depleted at t=0.123s, starting air expulsion phase...\n",
      "Air depleted at t=0.199s, starting coasting phase...\n"
     ]
    }
   ],
   "source": [
    "from waterrocketpy.core.simulation import WaterRocketSimulator\n",
    "from waterrocketpy.rocket.builder import RocketBuilder\n",
    "\"\"\"Running a Water Rocket Simulation\"\"\"\n",
    "# Convert to simulation parameters\n",
    "print(\"\\n2. Converting to simulation parameters...\")\n",
    "\n",
    "sim_params = rocket.to_simulation_params()\n",
    "print(f\"   Parameters ready: {len(sim_params)} parameters\")\n",
    "\n",
    "# Run simulation\n",
    "print(\"\\n3. Running simulation...\")\n",
    "simulator = WaterRocketSimulator()\n",
    "\n",
    "# Short simulation for testing\n",
    "sim_settings = {\"max_time\": 100.0, \"time_step\": 0.01, \"solver\": \"RK45\"}\n",
    "\n",
    "flight_data = simulator.simulate(sim_params, sim_settings)"
   ]
  },
  {
   "cell_type": "code",
   "execution_count": 11,
   "metadata": {},
   "outputs": [
    {
     "name": "stdout",
     "output_type": "stream",
     "text": [
      "Starting water expulsion phase...\n",
      "Water depleted at t=0.123s, starting air expulsion phase...\n",
      "Air depleted at t=0.199s, starting coasting phase...\n",
      "Maximum altitude: 61.45 m\n"
     ]
    }
   ],
   "source": [
    "\"\"\"\n",
    "How the Rocket builder Works: Step by step:\n",
    "1. Manual approach\n",
    "\"\"\"\n",
    "\n",
    "from waterrocketpy.core.simulation import WaterRocketSimulator\n",
    "from waterrocketpy.rocket.builder import RocketBuilder,create_standard_rocket\n",
    "from waterrocketpy.core.constants import ATMOSPHERIC_PRESSURE\n",
    "\n",
    "#create a Rocket Builder\n",
    "custom_rocket_Builder = (\n",
    "    RocketBuilder()\n",
    "    .set_bottle(volume=0.002, diameter=0.1)  # 2L bottle\n",
    "    .set_nozzle(diameter=0.015)\n",
    "    .set_mass(empty_mass=0.25, water_fraction=0.33)\n",
    "    .set_initial_conditions(pressure=8 * ATMOSPHERIC_PRESSURE)\n",
    "    .set_metadata(\"Standard 2L Rocket\", \"Standard configuration for 2L bottle\")    \n",
    ")\n",
    "\n",
    "#let the Rocket Builder create a rocket:\n",
    "custom_rocket = custom_rocket_Builder.build()\n",
    "\n",
    "\n",
    "sim_params = custom_rocket_Builder.to_simulation_params()\n",
    "\n",
    "simulator = WaterRocketSimulator()\n",
    "flight_data = simulator.simulate(sim_params)\n",
    "\n",
    "print(f\"Maximum altitude: {flight_data.max_altitude:.2f} m\")\n",
    "\n"
   ]
  },
  {
   "cell_type": "code",
   "execution_count": 12,
   "metadata": {},
   "outputs": [
    {
     "name": "stdout",
     "output_type": "stream",
     "text": [
      "Smart Rocket Configuration:\n",
      "  Volume: 0.001521 m³\n",
      "  Empty Mass: 0.175 kg\n",
      "  Drag Coefficient: 0.239\n",
      "  Description: Built using build_from_dimensions\n",
      "Starting water expulsion phase...\n",
      "Water depleted at t=0.186s, starting air expulsion phase...\n",
      "Air depleted at t=0.321s, starting coasting phase...\n",
      "Maximum altitude: 81.59 m\n"
     ]
    }
   ],
   "source": [
    "#2. automatic approach\n",
    "from waterrocketpy.rocket.builder import RocketBuilder\n",
    "from waterrocketpy.core.constants import ATMOSPHERIC_PRESSURE\n",
    "from waterrocketpy.core.simulation import WaterRocketSimulator\n",
    "# Smart approach - specify dimensions, let the function calculate everything!\n",
    "smart_builder = RocketBuilder()\n",
    "\n",
    "smart_config = (smart_builder\n",
    "    .build_from_dimensions(\n",
    "        L_body=0.25,           # 25 cm body length\n",
    "        L_cone=0.08,           # 8 cm nose cone length  \n",
    "        d_body=0.088,          # 88 mm diameter (standard 2L bottle)\n",
    "        p_max=8 * ATMOSPHERIC_PRESSURE,  # 8 bar maximum pressure\n",
    "        nozzle_diameter=0.01,  # 10 mm nozzle diameter\n",
    "        material_name=\"PET\",   # PET plastic material\n",
    "        water_fraction=0.3,    # 30% water fill\n",
    "        safety_factor=2.0      # 2x safety factor\n",
    "    )\n",
    "    .set_metadata(\"Smart Rocket\", \"Built using build_from_dimensions\")\n",
    "    .build()\n",
    ")\n",
    "\n",
    "print(\"Smart Rocket Configuration:\")\n",
    "print(f\"  Volume: {smart_config.bottle_volume:.6f} m³\")\n",
    "print(f\"  Empty Mass: {smart_config.empty_mass:.3f} kg\")\n",
    "print(f\"  Drag Coefficient: {smart_config.drag_coefficient:.3f}\")\n",
    "print(f\"  Description: {smart_config.description}\")\n",
    "#simulate\n",
    "simulator = WaterRocketSimulator()\n",
    "flight_data = simulator.simulate(smart_config.to_simulation_params())\n",
    "print(f\"Maximum altitude: {flight_data.max_altitude:.2f} m\")"
   ]
  },
  {
   "cell_type": "code",
   "execution_count": null,
   "metadata": {},
   "outputs": [],
   "source": []
  }
 ],
 "metadata": {
  "kernelspec": {
   "display_name": ".venv",
   "language": "python",
   "name": "python3"
  },
  "language_info": {
   "codemirror_mode": {
    "name": "ipython",
    "version": 3
   },
   "file_extension": ".py",
   "mimetype": "text/x-python",
   "name": "python",
   "nbconvert_exporter": "python",
   "pygments_lexer": "ipython3",
   "version": "3.11.9"
  },
  "orig_nbformat": 4
 },
 "nbformat": 4,
 "nbformat_minor": 2
}

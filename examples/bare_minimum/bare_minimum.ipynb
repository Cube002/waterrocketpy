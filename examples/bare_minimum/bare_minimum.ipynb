{
 "cells": [
  {
   "cell_type": "code",
   "execution_count": 8,
   "id": "adc74939",
   "metadata": {},
   "outputs": [
    {
     "name": "stdout",
     "output_type": "stream",
     "text": [
      "Starting water expulsion phase...\n",
      "Water depleted at t=0.123s, starting air expulsion phase...\n",
      "Air depleted at t=0.199s, starting coasting phase...\n",
      "Maximum altitude: 61.45 m\n"
     ]
    }
   ],
   "source": [
    "\"\"\"\n",
    "Minimal script to show how the water rocket simulation works.\n",
    "\"\"\"\n",
    "\n",
    "from waterrocketpy.core.simulation import WaterRocketSimulator\n",
    "from waterrocketpy.rocket.builder import RocketBuilder,RocketConfiguration,create_standard_rocket\n",
    "\n",
    "#Build\n",
    "rocket = create_standard_rocket()\n",
    "rocket_sim_params = rocket.to_simulation_params() #Eport to simulation Parameters\n",
    "#Simulate\n",
    "simulator = WaterRocketSimulator()\n",
    "flight_data = simulator.simulate(rocket_sim_params)\n",
    "\n",
    "print(f\"Maximum altitude: {flight_data.max_altitude:.2f} m\")"
   ]
  },
  {
   "cell_type": "code",
   "execution_count": null,
   "id": "845f5f6c",
   "metadata": {},
   "outputs": [
    {
     "name": "stdout",
     "output_type": "stream",
     "text": [
      "Smart Rocket Configuration:\n",
      "  Volume: 0.001521 m³\n",
      "  Empty Mass: 0.175 kg\n",
      "  Drag Coefficient: 0.239\n",
      "  Description: Built using build_from_dimensions\n",
      "Starting water expulsion phase...\n",
      "Water depleted at t=0.186s, starting air expulsion phase...\n",
      "Air depleted at t=0.321s, starting coasting phase...\n",
      "Maximum altitude: 81.59 m\n"
     ]
    }
   ],
   "source": []
  },
  {
   "cell_type": "code",
   "execution_count": null,
   "id": "be49b990",
   "metadata": {},
   "outputs": [],
   "source": []
  }
 ],
 "metadata": {
  "kernelspec": {
   "display_name": ".venv",
   "language": "python",
   "name": "python3"
  },
  "language_info": {
   "codemirror_mode": {
    "name": "ipython",
    "version": 3
   },
   "file_extension": ".py",
   "mimetype": "text/x-python",
   "name": "python",
   "nbconvert_exporter": "python",
   "pygments_lexer": "ipython3",
   "version": "3.11.9"
  }
 },
 "nbformat": 4,
 "nbformat_minor": 5
}

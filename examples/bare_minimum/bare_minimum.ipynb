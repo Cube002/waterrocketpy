{
 "cells": [
  {
   "cell_type": "code",
   "execution_count": 2,
   "id": "adc74939",
   "metadata": {},
   "outputs": [
    {
     "name": "stdout",
     "output_type": "stream",
     "text": [
      "Starting water expulsion phase...\n",
      "Water depleted at t=0.123s, starting air expulsion phase...\n",
      "Air depleted at t=0.199s, starting coasting phase...\n",
      "Maximum altitude: 61.45 m\n"
     ]
    }
   ],
   "source": [
    "\"\"\"\n",
    "Minimal script to verify the water rocket simulation works.\n",
    "\"\"\"\n",
    "\n",
    "from waterrocketpy.core.simulation import WaterRocketSimulator\n",
    "from waterrocketpy.rocket.builder import RocketBuilder,create_standard_rocket\n",
    "\n",
    "rocket = create_standard_rocket()\n",
    "builder = RocketBuilder.from_dict(rocket.__dict__)\n",
    "sim_params = builder.to_simulation_params()\n",
    "\n",
    "simulator = WaterRocketSimulator()\n",
    "flight_data = simulator.simulate(sim_params)\n",
    "\n",
    "print(f\"Maximum altitude: {flight_data.max_altitude:.2f} m\")"
   ]
  }
 ],
 "metadata": {
  "kernelspec": {
   "display_name": ".venv",
   "language": "python",
   "name": "python3"
  },
  "language_info": {
   "codemirror_mode": {
    "name": "ipython",
    "version": 3
   },
   "file_extension": ".py",
   "mimetype": "text/x-python",
   "name": "python",
   "nbconvert_exporter": "python",
   "pygments_lexer": "ipython3",
   "version": "3.11.9"
  }
 },
 "nbformat": 4,
 "nbformat_minor": 5
}

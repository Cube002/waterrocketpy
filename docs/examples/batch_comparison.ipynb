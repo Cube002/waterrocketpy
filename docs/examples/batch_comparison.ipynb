{
 "cells": [
  {
   "cell_type": "code",
   "execution_count": 15,
   "id": "b68bf8c4",
   "metadata": {},
   "outputs": [
    {
     "ename": "TypeError",
     "evalue": "argument of type 'RocketConfiguration' is not iterable",
     "output_type": "error",
     "traceback": [
      "\u001b[31m---------------------------------------------------------------------------\u001b[39m",
      "\u001b[31mTypeError\u001b[39m                                 Traceback (most recent call last)",
      "\u001b[36mCell\u001b[39m\u001b[36m \u001b[39m\u001b[32mIn[15]\u001b[39m\u001b[32m, line 19\u001b[39m\n\u001b[32m     16\u001b[39m \u001b[38;5;28;01mfor\u001b[39;00m name, rocket \u001b[38;5;129;01min\u001b[39;00m rockets.items():\n\u001b[32m     17\u001b[39m     \u001b[38;5;66;03m# Run simulation\u001b[39;00m\n\u001b[32m     18\u001b[39m     simulator = WaterRocketSimulator(physics_engine=PhysicsEngine())\n\u001b[32m---> \u001b[39m\u001b[32m19\u001b[39m     flight_data = \u001b[43msimulator\u001b[49m\u001b[43m.\u001b[49m\u001b[43msimulate\u001b[49m\u001b[43m(\u001b[49m\u001b[43mrocket\u001b[49m\u001b[43m)\u001b[49m\n\u001b[32m     20\u001b[39m     results[name] = flight_data\n\u001b[32m     22\u001b[39m \u001b[38;5;66;03m# Compare altitudes\u001b[39;00m\n",
      "\u001b[36mFile \u001b[39m\u001b[32m~\\Documents\\Pablo\\PythonProgramming\\SCE\\waterrocketpy\\waterrocketpy\\core\\simulation.py:423\u001b[39m, in \u001b[36mWaterRocketSimulator.simulate\u001b[39m\u001b[34m(self, rocket_params, sim_params)\u001b[39m\n\u001b[32m    412\u001b[39m \u001b[38;5;250m\u001b[39m\u001b[33;03m\"\"\"\u001b[39;00m\n\u001b[32m    413\u001b[39m \u001b[33;03mRun complete water rocket simulation with three phases.\u001b[39;00m\n\u001b[32m    414\u001b[39m \n\u001b[32m   (...)\u001b[39m\u001b[32m    420\u001b[39m \u001b[33;03m    FlightData object with simulation results\u001b[39;00m\n\u001b[32m    421\u001b[39m \u001b[33;03m\"\"\"\u001b[39;00m\n\u001b[32m    422\u001b[39m \u001b[38;5;66;03m# Validate parameters\u001b[39;00m\n\u001b[32m--> \u001b[39m\u001b[32m423\u001b[39m warnings = \u001b[38;5;28;43mself\u001b[39;49m\u001b[43m.\u001b[49m\u001b[43mvalidator\u001b[49m\u001b[43m.\u001b[49m\u001b[43mvalidate_rocket_parameters\u001b[49m\u001b[43m(\u001b[49m\u001b[43mrocket_params\u001b[49m\u001b[43m)\u001b[49m\n\u001b[32m    424\u001b[39m \u001b[38;5;28;01mif\u001b[39;00m warnings:\n\u001b[32m    425\u001b[39m     \u001b[38;5;28mprint\u001b[39m(\u001b[33m\"\u001b[39m\u001b[33mWarnings:\u001b[39m\u001b[33m\"\u001b[39m, warnings)\n",
      "\u001b[36mFile \u001b[39m\u001b[32m~\\Documents\\Pablo\\PythonProgramming\\SCE\\waterrocketpy\\waterrocketpy\\core\\validation.py:81\u001b[39m, in \u001b[36mParameterValidator.validate_rocket_parameters\u001b[39m\u001b[34m(params)\u001b[39m\n\u001b[32m     69\u001b[39m required_params = [\n\u001b[32m     70\u001b[39m     \u001b[33m\"\u001b[39m\u001b[33mP0\u001b[39m\u001b[33m\"\u001b[39m,\n\u001b[32m     71\u001b[39m     \u001b[33m\"\u001b[39m\u001b[33mA_nozzle\u001b[39m\u001b[33m\"\u001b[39m,\n\u001b[32m   (...)\u001b[39m\u001b[32m     77\u001b[39m     \u001b[33m\"\u001b[39m\u001b[33mA_rocket\u001b[39m\u001b[33m\"\u001b[39m,\n\u001b[32m     78\u001b[39m ]\n\u001b[32m     80\u001b[39m \u001b[38;5;28;01mfor\u001b[39;00m param \u001b[38;5;129;01min\u001b[39;00m required_params:\n\u001b[32m---> \u001b[39m\u001b[32m81\u001b[39m     \u001b[38;5;28;01mif\u001b[39;00m \u001b[43mparam\u001b[49m\u001b[43m \u001b[49m\u001b[38;5;129;43;01mnot\u001b[39;49;00m\u001b[43m \u001b[49m\u001b[38;5;129;43;01min\u001b[39;49;00m\u001b[43m \u001b[49m\u001b[43mparams\u001b[49m:\n\u001b[32m     82\u001b[39m         \u001b[38;5;28;01mraise\u001b[39;00m ValidationError(\u001b[33mf\u001b[39m\u001b[33m\"\u001b[39m\u001b[33mMissing required parameter: \u001b[39m\u001b[38;5;132;01m{\u001b[39;00mparam\u001b[38;5;132;01m}\u001b[39;00m\u001b[33m\"\u001b[39m)\n\u001b[32m     84\u001b[39m \u001b[38;5;66;03m# Validate pressure\u001b[39;00m\n",
      "\u001b[31mTypeError\u001b[39m: argument of type 'RocketConfiguration' is not iterable"
     ]
    }
   ],
   "source": [
    "import matplotlib.pyplot as plt\n",
    "import waterrocketpy.rocket.builder \n",
    "from waterrocketpy.core.simulation import WaterRocketSimulator\n",
    "from waterrocketpy.rocket.builder import create_competition_rocket,create_high_pressure_rocket,create_standard_rocket\n",
    "from waterrocketpy.core.simulation import WaterRocketSimulator\n",
    "from waterrocketpy.core.physics_engine import PhysicsEngine\n",
    "import matplotlib.pyplot as plt\n",
    "# Simulate multiple rocket configurations\n",
    "rockets = {\n",
    "    \"Standard\": create_standard_rocket(),\n",
    "    \"High Pressure\": create_competition_rocket(),\n",
    "    \"Competition\": create_high_pressure_rocket()\n",
    "}\n",
    "\n",
    "results = {}\n",
    "for name, rocket in rockets.items():\n",
    "    # Run simulation\n",
    "    simulator = WaterRocketSimulator(physics_engine=PhysicsEngine())\n",
    "    flight_data = simulator.simulate(rocket)\n",
    "    results[name] = flight_data\n",
    "\n",
    "# Compare altitudes\n",
    "plt.figure(figsize=(12, 8))\n",
    "\n",
    "plt.subplot(2, 2, 1)\n",
    "for name, data in results.items():\n",
    "    plt.plot(data.time, data.altitude, label=name, linewidth=2)\n",
    "plt.xlabel(\"Time (s)\")\n",
    "plt.ylabel(\"Altitude (m)\")\n",
    "plt.title(\"Altitude Comparison\")\n",
    "plt.legend()\n",
    "plt.grid(True)\n",
    "\n",
    "plt.subplot(2, 2, 2)\n",
    "for name, data in results.items():\n",
    "    plt.plot(data.time, data.velocity, label=name, linewidth=2)\n",
    "plt.xlabel(\"Time (s)\")\n",
    "plt.ylabel(\"Velocity (m/s)\")\n",
    "plt.title(\"Velocity Comparison\")\n",
    "plt.legend()\n",
    "plt.grid(True)\n",
    "\n",
    "plt.subplot(2, 2, 3)\n",
    "for name, data in results.items():\n",
    "    plt.plot(data.time, data.pressure/1e5, label=name, linewidth=2)\n",
    "plt.xlabel(\"Time (s)\")\n",
    "plt.ylabel(\"Pressure (bar)\")\n",
    "plt.title(\"Pressure Comparison\")\n",
    "plt.legend()\n",
    "plt.grid(True)\n",
    "\n",
    "plt.subplot(2, 2, 4)\n",
    "# Performance summary\n",
    "names = list(results.keys())\n",
    "altitudes = [data.max_altitude for data in results.values()]\n",
    "velocities = [data.max_velocity for data in results.values()]\n",
    "\n",
    "x = range(len(names))\n",
    "width = 0.35\n",
    "plt.bar([i - width/2 for i in x], altitudes, width, label='Max Altitude (m)', alpha=0.8)\n",
    "plt.bar([i + width/2 for i in x], [v/10 for v in velocities], width, label='Max Velocity (m/s × 10)', alpha=0.8)\n",
    "plt.xlabel(\"Rocket Configuration\")\n",
    "plt.ylabel(\"Performance\")\n",
    "plt.title(\"Performance Summary\")\n",
    "plt.xticks(x, names, rotation=45)\n",
    "plt.legend()\n",
    "\n",
    "plt.tight_layout()\n",
    "plt.show()"
   ]
  },
  {
   "cell_type": "code",
   "execution_count": 17,
   "id": "9ee2d437",
   "metadata": {},
   "outputs": [
    {
     "ename": "NameError",
     "evalue": "name 'builder' is not defined",
     "output_type": "error",
     "traceback": [
      "\u001b[31m---------------------------------------------------------------------------\u001b[39m",
      "\u001b[31mNameError\u001b[39m                                 Traceback (most recent call last)",
      "\u001b[36mCell\u001b[39m\u001b[36m \u001b[39m\u001b[32mIn[17]\u001b[39m\u001b[32m, line 7\u001b[39m\n\u001b[32m      5\u001b[39m rocket = create_standard_rocket()\n\u001b[32m      6\u001b[39m simulator = WaterRocketSimulator()\n\u001b[32m----> \u001b[39m\u001b[32m7\u001b[39m sim_params = \u001b[43mbuilder\u001b[49m.to_simulation_params()\n\u001b[32m      9\u001b[39m simulator = WaterRocketSimulator()\n\u001b[32m     10\u001b[39m flight_data = simulator.simulate(sim_params)\n",
      "\u001b[31mNameError\u001b[39m: name 'builder' is not defined"
     ]
    }
   ],
   "source": [
    "from waterrocketpy.rocket.builder import create_standard_rocket\n",
    "from waterrocketpy.core.simulation import WaterRocketSimulator\n",
    "\n",
    "# Create and simulate a standard 2L bottle rocket\n",
    "rocket = create_standard_rocket()\n",
    "simulator = WaterRocketSimulator()\n",
    "sim_params = builder.to_simulation_params()\n",
    "\n",
    "simulator = WaterRocketSimulator()\n",
    "flight_data = simulator.simulate(sim_params)\n",
    "\n",
    "\n",
    "print(f\"Maximum altitude: {flight_data.max_altitude:.1f} m\")\n",
    "print(f\"Flight time: {flight_data.flight_time:.1f} s\")"
   ]
  },
  {
   "cell_type": "code",
   "execution_count": null,
   "id": "d818365c",
   "metadata": {},
   "outputs": [],
   "source": []
  }
 ],
 "metadata": {
  "kernelspec": {
   "display_name": ".venv",
   "language": "python",
   "name": "python3"
  },
  "language_info": {
   "codemirror_mode": {
    "name": "ipython",
    "version": 3
   },
   "file_extension": ".py",
   "mimetype": "text/x-python",
   "name": "python",
   "nbconvert_exporter": "python",
   "pygments_lexer": "ipython3",
   "version": "3.11.9"
  }
 },
 "nbformat": 4,
 "nbformat_minor": 5
}

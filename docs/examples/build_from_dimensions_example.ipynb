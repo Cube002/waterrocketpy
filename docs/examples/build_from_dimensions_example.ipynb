{
 "cells": [
  {
   "cell_type": "markdown",
   "metadata": {},
   "source": [
    "# Using build_from_dimensions: \n",
    "\n",
    "This notebook demonstrates how to use the `build_from_dimensions` function from the WaterRocketPy library. This approach is **superior** to manually entering rocket dimensions because it automatically calculates all the complex interdependent parameters for you.\n",
    "\n",
    "## Why build_from_dimensions is Superior\n",
    "\n",
    "When you manually specify rocket parameters, you need to:\n",
    "1. **Calculate wall thickness** based on pressure, material, and safety factors\n",
    "2. **Calculate bottle volume** from geometry\n",
    "3. **Calculate mass** from material properties and geometry\n",
    "4. **Calculate drag coefficient** using complex aerodynamic formulas\n",
    "5. **Calculate surface areas** for reference area\n",
    "6. **Ensure consistency** between all parameters\n",
    "\n",
    "The `build_from_dimensions` function does all of this automatically and ensures **physical consistency**!\n"
   ]
  },
  {
   "cell_type": "code",
   "execution_count": 23,
   "metadata": {},
   "outputs": [
    {
     "name": "stdout",
     "output_type": "stream",
     "text": [
      "Pandas not available - using simple table formatting\n",
      "   To install: pip install waterrocketpy[extra] or pip install pandas\n",
      "\n",
      "WaterRocketPy build_from_dimensions Example\n",
      "==========================================\n"
     ]
    }
   ],
   "source": [
    "# Import the required modules\n",
    "import sys\n",
    "import numpy as np\n",
    "from waterrocketpy.rocket.builder import RocketBuilder\n",
    "from waterrocketpy.core.constants import ATMOSPHERIC_PRESSURE\n",
    "import matplotlib.pyplot as plt\n",
    "\n",
    "# Optional ---  import for pandas (prettier table formatting)\n",
    "# i dont want to force users to install pandas so:\n",
    "try:\n",
    "    import pandas as pd\n",
    "    HAS_PANDAS = True\n",
    "except ImportError:\n",
    "    HAS_PANDAS = False\n",
    "    print(\"Pandas not available - using simple table formatting\")\n",
    "    print(\"   To install: pip install waterrocketpy[extra] or pip install pandas\")\n",
    "# End Optimal ---\n",
    "\n",
    "def format_table(data, headers=None):\n",
    "    \"\"\"Format data as a table with or without pandas\"\"\"\n",
    "    if HAS_PANDAS and isinstance(data, dict):\n",
    "        df = pd.DataFrame(data)\n",
    "        return df.to_string(index=False)\n",
    "    else:\n",
    "        # Simple table formatting without pandas\n",
    "        if isinstance(data, dict):\n",
    "            headers = list(data.keys())\n",
    "            rows = list(zip(*data.values()))\n",
    "        else:\n",
    "            rows = data\n",
    "        \n",
    "        # Calculate column widths\n",
    "        if headers:\n",
    "            col_widths = [len(str(h)) for h in headers]\n",
    "            for row in rows:\n",
    "                for i, cell in enumerate(row):\n",
    "                    col_widths[i] = max(col_widths[i], len(str(cell)))\n",
    "        else:\n",
    "            col_widths = [max(len(str(cell)) for cell in row) for row in zip(*rows)]\n",
    "        \n",
    "        # Format table\n",
    "        result = []\n",
    "        if headers:\n",
    "            header_row = \"  \".join(str(h).ljust(w) for h, w in zip(headers, col_widths))\n",
    "            result.append(header_row)\n",
    "            result.append(\"  \".join(\"-\" * w for w in col_widths))\n",
    "        \n",
    "        for row in rows:\n",
    "            formatted_row = \"  \".join(str(cell).ljust(w) for cell, w in zip(row, col_widths))\n",
    "            result.append(formatted_row)\n",
    "        \n",
    "        return \"\\n\".join(result)\n",
    "\n",
    "print(\"\\nWaterRocketPy build_from_dimensions Example\")\n",
    "print(\"==========================================\")"
   ]
  },
  {
   "cell_type": "markdown",
   "metadata": {},
   "source": [
    "## Method 1: Manual Parameter Entry (The Hard Way)\n",
    "\n",
    "First, let's see what happens when you try to build a rocket manually by specifying individual parameters:"
   ]
  },
  {
   "cell_type": "code",
   "execution_count": 24,
   "metadata": {},
   "outputs": [
    {
     "name": "stdout",
     "output_type": "stream",
     "text": [
      "Manual Rocket Configuration:\n",
      "  Volume: 0.001380 m³\n",
      "  Empty Mass: 0.085 kg\n",
      "  Drag Coefficient: 0.500\n",
      "  Description: Built with manual parameter guessing\n",
      "\n"
     ]
    }
   ],
   "source": [
    "# Manual approach - you have to calculate everything yourself!\n",
    "manual_builder = RocketBuilder()\n",
    "\n",
    "# You would need to manually calculate:\n",
    "# - Bottle volume from dimensions\n",
    "# - Empty mass from material properties\n",
    "# - Drag coefficient from complex aerodynamics\n",
    "# - Reference area from geometry\n",
    "# - Ensure all parameters are consistent\n",
    "\n",
    "manual_config = (manual_builder\n",
    "    .set_bottle(volume=0.00138, diameter=0.088)  # Guessed volume!\n",
    "    .set_nozzle(diameter=0.01)\n",
    "    .set_mass(empty_mass=0.085, water_fraction=0.3)  # Guessed mass!\n",
    "    .set_aerodynamics(drag_coefficient=0.5)  # Guessed drag!\n",
    "    .set_initial_conditions(pressure=8 * ATMOSPHERIC_PRESSURE)\n",
    "    .set_metadata(\"Manual Rocket\", \"Built with manual parameter guessing\")\n",
    "    .build()\n",
    ")\n",
    "\n",
    "print(\"Manual Rocket Configuration:\")\n",
    "print(f\"  Volume: {manual_config.bottle_volume:.6f} m³\")\n",
    "print(f\"  Empty Mass: {manual_config.empty_mass:.3f} kg\")\n",
    "print(f\"  Drag Coefficient: {manual_config.drag_coefficient:.3f}\")\n",
    "print(f\"  Description: {manual_config.description}\")\n",
    "print()"
   ]
  },
  {
   "cell_type": "markdown",
   "metadata": {},
   "source": [
    "## Method 2: build_from_dimensions (The Smart Way)\n",
    "\n",
    "Now let's build the same rocket using `build_from_dimensions`. You just specify the physical dimensions and let the function calculate everything else!"
   ]
  },
  {
   "cell_type": "code",
   "execution_count": 25,
   "metadata": {},
   "outputs": [
    {
     "name": "stdout",
     "output_type": "stream",
     "text": [
      "Smart Rocket Configuration:\n",
      "  Volume: 0.001521 m³\n",
      "  Empty Mass: 0.175 kg\n",
      "  Drag Coefficient: 0.239\n",
      "  Description: Built using build_from_dimensions\n",
      "\n"
     ]
    }
   ],
   "source": [
    "# Smart approach - specify dimensions, let the function calculate everything!\n",
    "smart_builder = RocketBuilder()\n",
    "\n",
    "smart_config = (smart_builder\n",
    "    .build_from_dimensions(\n",
    "        L_body=0.25,           # 25 cm body length\n",
    "        L_cone=0.08,           # 8 cm nose cone length  \n",
    "        d_body=0.088,          # 88 mm diameter (standard 2L bottle)\n",
    "        p_max=8 * ATMOSPHERIC_PRESSURE,  # 8 bar maximum pressure\n",
    "        nozzle_diameter=0.01,  # 10 mm nozzle diameter\n",
    "        material_name=\"PET\",   # PET plastic material\n",
    "        water_fraction=0.3,    # 30% water fill\n",
    "        safety_factor=2.0      # 2x safety factor\n",
    "    )\n",
    "    .set_metadata(\"Smart Rocket\", \"Built using build_from_dimensions\")\n",
    "    .build()\n",
    ")\n",
    "\n",
    "print(\"Smart Rocket Configuration:\")\n",
    "print(f\"  Volume: {smart_config.bottle_volume:.6f} m³\")\n",
    "print(f\"  Empty Mass: {smart_config.empty_mass:.3f} kg\")\n",
    "print(f\"  Drag Coefficient: {smart_config.drag_coefficient:.3f}\")\n",
    "print(f\"  Description: {smart_config.description}\")\n",
    "print()"
   ]
  },
  {
   "cell_type": "markdown",
   "metadata": {},
   "source": [
    "## Comparison: Manual vs build_from_dimensions\n",
    "\n",
    "Let's compare the two approaches and see the differences:"
   ]
  },
  {
   "cell_type": "code",
   "execution_count": 26,
   "metadata": {},
   "outputs": [
    {
     "name": "stdout",
     "output_type": "stream",
     "text": [
      "\n",
      "Comparison of Manual vs build_from_dimensions:\n",
      "==============================================\n",
      "Parameter            Manual Approach  build_from_dimensions\n",
      "-------------------  ---------------  ---------------------\n",
      "Bottle Volume (m³)   0.001380         0.001521             \n",
      "Empty Mass (kg)      0.085            0.175                \n",
      "Drag Coefficient     0.500            0.239                \n",
      "Reference Area (m²)  0.007854         0.006082             \n",
      "Water Mass (kg)      0.414            0.456                \n",
      "Total Mass (kg)      0.499            0.631                \n",
      "\n"
     ]
    }
   ],
   "source": [
    "# Create a comparison table\n",
    "comparison_data = {\n",
    "    'Parameter': [\n",
    "        'Bottle Volume (m³)',\n",
    "        'Empty Mass (kg)', \n",
    "        'Drag Coefficient',\n",
    "        'Reference Area (m²)',\n",
    "        'Water Mass (kg)',\n",
    "        'Total Mass (kg)'\n",
    "    ],\n",
    "    'Manual Approach': [\n",
    "        f\"{manual_config.bottle_volume:.6f}\",\n",
    "        f\"{manual_config.empty_mass:.3f}\",\n",
    "        f\"{manual_config.drag_coefficient:.3f}\",\n",
    "        f\"{manual_config.reference_area:.6f}\",\n",
    "        f\"{manual_config.water_mass:.3f}\",\n",
    "        f\"{manual_config.total_mass:.3f}\"\n",
    "    ],\n",
    "    'build_from_dimensions': [\n",
    "        f\"{smart_config.bottle_volume:.6f}\",\n",
    "        f\"{smart_config.empty_mass:.3f}\",\n",
    "        f\"{smart_config.drag_coefficient:.3f}\",\n",
    "        f\"{smart_config.reference_area:.6f}\",\n",
    "        f\"{smart_config.water_mass:.3f}\",\n",
    "        f\"{smart_config.total_mass:.3f}\"\n",
    "    ]\n",
    "}\n",
    "\n",
    "print(\"\\nComparison of Manual vs build_from_dimensions:\")\n",
    "print(\"==============================================\")\n",
    "print(format_table(comparison_data))\n",
    "print()"
   ]
  },
  {
   "cell_type": "markdown",
   "metadata": {},
   "source": [
    "## Key Advantages of build_from_dimensions\n",
    "\n",
    "### 1. Automatic Wall Thickness Calculation\n",
    "The function calculates the required wall thickness based on:\n",
    "- Maximum pressure\n",
    "- Material properties (yield strength, etc.)\n",
    "- Safety factor\n",
    "- Geometry (diameter)\n",
    "\n",
    "### 2. Accurate Mass Calculation  \n",
    "Instead of guessing, it calculates mass from:\n",
    "- Material density\n",
    "- Calculated wall thickness\n",
    "- Actual geometry (body + nose cone)\n",
    "\n",
    "### 3. Physics-Based Drag Coefficient\n",
    "Uses real aerodynamic formulas considering:\n",
    "- Reynolds number\n",
    "- Friction coefficients (laminar + turbulent)\n",
    "- Wetted surface area\n",
    "- Length-to-diameter ratio\n",
    "\n",
    "### 4. Guaranteed Consistency\n",
    "All parameters are calculated from the same dimensional inputs, ensuring they're physically consistent with each other."
   ]
  },
  {
   "cell_type": "markdown",
   "metadata": {},
   "source": [
    "## Example: Building Different Rocket Configurations\n",
    "\n",
    "Here I build several rockets with different dimensions to show the flexibility:\n",
    "Notice, how the "
   ]
  },
  {
   "cell_type": "code",
   "execution_count": 27,
   "metadata": {},
   "outputs": [
    {
     "name": "stdout",
     "output_type": "stream",
     "text": [
      "\n",
      "Multiple Rocket Configurations built with build_from_dimensions:\n",
      "===============================================================\n",
      "Rocket         Volume (L)  Empty Mass (g)  Water Mass (g)  Drag Coefficient  Total Mass (g)\n",
      "-------------  ----------  --------------  --------------  ----------------  --------------\n",
      "Small (1L)     0.9         89.0            291.6           0.247             380.5         \n",
      "Standard (2L)  1.5         174.8           456.2           0.239             630.9         \n",
      "Large (3L)     2.7         355.3           962.1           0.246             1317.4        \n"
     ]
    }
   ],
   "source": [
    "# Build multiple rocket configurations\n",
    "rockets = []\n",
    "\n",
    "# Small rocket (1L bottle equivalent)\n",
    "small_rocket = (RocketBuilder()\n",
    "    .build_from_dimensions(\n",
    "        L_body=0.20, L_cone=0.06, d_body=0.075,\n",
    "        p_max=6 * ATMOSPHERIC_PRESSURE,\n",
    "        nozzle_diameter=0.008,\n",
    "        material_name=\"PET\"\n",
    "    )\n",
    "    .set_metadata(\"Small Rocket\", \"1L bottle equivalent\")\n",
    "    .build()\n",
    ")\n",
    "\n",
    "# Standard rocket (2L bottle equivalent)\n",
    "standard_rocket = smart_config  # We already built this one\n",
    "\n",
    "# Large rocket (3L bottle equivalent)\n",
    "large_rocket = (RocketBuilder()\n",
    "    .build_from_dimensions(\n",
    "        L_body=0.35, L_cone=0.12, d_body=0.10,\n",
    "        p_max=10 * ATMOSPHERIC_PRESSURE,\n",
    "        nozzle_diameter=0.012,\n",
    "        material_name=\"PET\",\n",
    "        water_fraction=0.35\n",
    "    )\n",
    "    .set_metadata(\"Large Rocket\", \"3L bottle equivalent\")\n",
    "    .build()\n",
    ")\n",
    "\n",
    "rockets = [small_rocket, standard_rocket, large_rocket]\n",
    "\n",
    "# Create comparison\n",
    "rocket_comparison = {\n",
    "    'Rocket': ['Small (1L)', 'Standard (2L)', 'Large (3L)'],\n",
    "    'Volume (L)': [f\"{r.bottle_volume * 1000:.1f}\" for r in rockets],\n",
    "    'Empty Mass (g)': [f\"{r.empty_mass * 1000:.1f}\" for r in rockets],\n",
    "    'Water Mass (g)': [f\"{r.water_mass * 1000:.1f}\" for r in rockets],\n",
    "    'Drag Coefficient': [f\"{r.drag_coefficient:.3f}\" for r in rockets],\n",
    "    'Total Mass (g)': [f\"{r.total_mass * 1000:.1f}\" for r in rockets]\n",
    "}\n",
    "\n",
    "print(\"\\nMultiple Rocket Configurations built with build_from_dimensions:\")\n",
    "print(\"===============================================================\")\n",
    "print(format_table(rocket_comparison))"
   ]
  },
  {
   "cell_type": "markdown",
   "metadata": {},
   "source": [
    "## Visualization: Mass Breakdown\n",
    "\n",
    "Let's visualize how the mass is distributed across different rocket sizes:"
   ]
  },
  {
   "cell_type": "code",
   "execution_count": 28,
   "metadata": {},
   "outputs": [
    {
     "data": {
      "image/png": "[encoded data removed]",
      "text/plain": [
       "<Figure size 1200x500 with 2 Axes>"
      ]
     },
     "metadata": {},
     "output_type": "display_data"
    },
    {
     "name": "stdout",
     "output_type": "stream",
     "text": [
      "Notice how the drag coefficient changes with rocket size!\n",
      "This is automatically calculated based on the length-to-diameter ratio.\n"
     ]
    }
   ],
   "source": [
    "# Create a stacked bar chart showing mass breakdown\n",
    "fig, (ax1, ax2) = plt.subplots(1, 2, figsize=(12, 5))\n",
    "\n",
    "# Mass breakdown\n",
    "rocket_names = ['Small (1L)', 'Standard (2L)', 'Large (3L)']\n",
    "empty_masses = [r.empty_mass * 1000 for r in rockets]  # Convert to grams\n",
    "water_masses = [r.water_mass * 1000 for r in rockets]\n",
    "\n",
    "x = np.arange(len(rocket_names))\n",
    "width = 0.6\n",
    "\n",
    "ax1.bar(x, empty_masses, width, label='Empty Mass', alpha=0.8)\n",
    "ax1.bar(x, water_masses, width, bottom=empty_masses, label='Water Mass', alpha=0.8)\n",
    "\n",
    "ax1.set_xlabel('Rocket Configuration')\n",
    "ax1.set_ylabel('Mass (g)')\n",
    "ax1.set_title('Mass Breakdown by Rocket Size')\n",
    "ax1.set_xticks(x)\n",
    "ax1.set_xticklabels(rocket_names)\n",
    "ax1.legend()\n",
    "ax1.grid(True, alpha=0.3)\n",
    "\n",
    "# Drag coefficient comparison\n",
    "drag_coeffs = [r.drag_coefficient for r in rockets]\n",
    "\n",
    "ax2.bar(x, drag_coeffs, width, alpha=0.8, color='orange')\n",
    "ax2.set_xlabel('Rocket Configuration')\n",
    "ax2.set_ylabel('Drag Coefficient')\n",
    "ax2.set_title('Calculated Drag Coefficients')\n",
    "ax2.set_xticks(x)\n",
    "ax2.set_xticklabels(rocket_names)\n",
    "ax2.grid(True, alpha=0.3)\n",
    "\n",
    "plt.tight_layout()\n",
    "plt.show()\n",
    "\n",
    "print(\"Notice how the drag coefficient changes with rocket size!\")\n",
    "print(\"This is automatically calculated based on the length-to-diameter ratio.\")"
   ]
  },
  {
   "cell_type": "markdown",
   "metadata": {},
   "source": [
    "## Advanced Example: Material Comparison\n",
    "\n",
    "The `build_from_dimensions` function can use different materials. Let's compare the same rocket built with different materials:"
   ]
  },
  {
   "cell_type": "code",
   "execution_count": 29,
   "metadata": {},
   "outputs": [
    {
     "name": "stdout",
     "output_type": "stream",
     "text": [
      "\n",
      "Material Comparison (same dimensions, different materials):\n",
      "=========================================================\n",
      "Material      Empty Mass (g)  Total Mass (g)  Volume (L)\n",
      "------------  --------------  --------------  ----------\n",
      "PET           174.8           630.9           1.5       \n",
      "Aluminum      149.2           605.3           1.5       \n",
      "Carbon_Fiber  62.1            518.3           1.5       \n",
      "\n",
      "Notice how different materials result in different masses!\n",
      "The function automatically calculates wall thickness based on material strength.\n"
     ]
    }
   ],
   "source": [
    "# Build the same rocket with different materials\n",
    "materials = ['PET', 'Aluminum', 'Carbon_Fiber']\n",
    "material_rockets = []\n",
    "\n",
    "for material in materials:\n",
    "    try:\n",
    "        rocket = (RocketBuilder()\n",
    "            .build_from_dimensions(\n",
    "                L_body=0.25, L_cone=0.08, d_body=0.088,\n",
    "                p_max=8 * ATMOSPHERIC_PRESSURE,\n",
    "                nozzle_diameter=0.01,\n",
    "                material_name=material,\n",
    "                water_fraction=0.3\n",
    "            )\n",
    "            .set_metadata(f\"{material} Rocket\", f\"Built with {material}\")\n",
    "            .build()\n",
    "        )\n",
    "        material_rockets.append(rocket)\n",
    "    except ValueError as e:\n",
    "        print(f\"Warning: {material} not available in material database: {e}\")\n",
    "        continue\n",
    "\n",
    "if material_rockets:\n",
    "    # Compare materials\n",
    "    material_comparison = {\n",
    "        'Material': [r.name.split()[0] for r in material_rockets],\n",
    "        'Empty Mass (g)': [f\"{r.empty_mass * 1000:.1f}\" for r in material_rockets],\n",
    "        'Total Mass (g)': [f\"{r.total_mass * 1000:.1f}\" for r in material_rockets],\n",
    "        'Volume (L)': [f\"{r.bottle_volume * 1000:.1f}\" for r in material_rockets]\n",
    "    }\n",
    "    \n",
    "    print(\"\\nMaterial Comparison (same dimensions, different materials):\")\n",
    "    print(\"=========================================================\")\n",
    "    print(format_table(material_comparison))\n",
    "    print(\"\\nNotice how different materials result in different masses!\")\n",
    "    print(\"The function automatically calculates wall thickness based on material strength.\")\n",
    "else:\n",
    "    print(\"Only PET material is currently available in the database.\")"
   ]
  },
  {
   "cell_type": "markdown",
   "metadata": {},
   "source": [
    "## Summary: Why build_from_dimensions is Superior\n",
    "\n",
    "### **Advantages of build_from_dimensions:**\n",
    "1. **Automatic calculations** - No need to manually compute complex physics\n",
    "2. **Physical consistency** - All parameters are derived from the same inputs\n",
    "\n",
    "### **Best Practice:**\n",
    "**Always use `build_from_dimensions` when you know the physical dimensions of your rocket.** Only use manual parameter entry for theoretical studies or when working with non-standard configurations that don't fit the dimensional model (might not be phycally realistic)."
   ]
  }
 ],
 "metadata": {
  "kernelspec": {
   "display_name": ".venv",
   "language": "python",
   "name": "python3"
  },
  "language_info": {
   "codemirror_mode": {
    "name": "ipython",
    "version": 3
   },
   "file_extension": ".py",
   "mimetype": "text/x-python",
   "name": "python",
   "nbconvert_exporter": "python",
   "pygments_lexer": "ipython3",
   "version": "3.11.9"
  }
 },
 "nbformat": 4,
 "nbformat_minor": 4
}

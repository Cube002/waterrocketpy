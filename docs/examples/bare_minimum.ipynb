{
 "cells": [
  {
   "cell_type": "code",
   "execution_count": null,
   "id": "adc74939",
   "metadata": {},
   "outputs": [
    {
     "name": "stdout",
     "output_type": "stream",
     "text": [
      "Starting water expulsion phase...\n",
      "Water depleted at t=0.123s, starting air expulsion phase...\n",
      "Air depleted at t=0.199s, starting coasting phase...\n",
      "{'P0': 810600, 'A_nozzle': 0.00017671458676442585, 'V_bottle': 0.002, 'water_fraction': 0.33, 'C_d': 0.97, 'm_empty': 0.25, 'C_drag': 0.5, 'A_rocket': 0.007853981633974483, 'liquid_gas_mass': 0.0}\n",
      "Maximum altitude: 61.45 m\n"
     ]
    }
   ],
   "source": [
    "\"\"\"\n",
    "Minimal script to show how the water rocket simulation works.\n",
    "\"\"\"\n",
    "\n",
    "from waterrocketpy.core.simulation import WaterRocketSimulator\n",
    "from waterrocketpy.rocket.builder import RocketBuilder,RocketConfiguration,create_standard_rocket\n",
    "\n",
    "#Build\n",
    "rocket = create_standard_rocket()\n",
    "rocket_sim_params = rocket.to_simulation_params() #Eport to simulation Parameters\n",
    "#Simulate\n",
    "simulator = WaterRocketSimulator()\n",
    "flight_data = simulator.simulate(rocket_sim_params)\n",
    "\n",
    "print(f\"Maximum altitude: {flight_data.max_altitude:.2f} m\")"
   ]
  },
  {
   "cell_type": "code",
   "execution_count": null,
   "id": "7fe6377d",
   "metadata": {},
   "outputs": [
    {
     "name": "stdout",
     "output_type": "stream",
     "text": [
      "Starting water expulsion phase...\n",
      "Water depleted at t=0.123s, starting air expulsion phase...\n",
      "Air depleted at t=0.199s, starting coasting phase...\n",
      "Maximum altitude: 61.45 m\n"
     ]
    }
   ],
   "source": [
    "\"\"\"\n",
    "How the Rocket builder Works: Step by step:\n",
    "\"\"\"\n",
    "\n",
    "from waterrocketpy.core.simulation import WaterRocketSimulator\n",
    "from waterrocketpy.rocket.builder import RocketBuilder,create_standard_rocket\n",
    "from waterrocketpy.core.constants import ATMOSPHERIC_PRESSURE\n",
    "\n",
    "#create a Rocket Builder\n",
    "custom_rocket_Builder = (\n",
    "    RocketBuilder()\n",
    "    .set_bottle(volume=0.002, diameter=0.1)  # 2L bottle\n",
    "    .set_nozzle(diameter=0.015)\n",
    "    .set_mass(empty_mass=0.25, water_fraction=0.33)\n",
    "    .set_initial_conditions(pressure=8 * ATMOSPHERIC_PRESSURE)\n",
    "    .set_metadata(\"Standard 2L Rocket\", \"Standard configuration for 2L bottle\")    \n",
    ")\n",
    "\n",
    "custom_rocket_Builder = (\n",
    "    RocketBuilder.build_from_dimensions\n",
    "    \n",
    ")\n",
    "\n",
    "#let the Rocket Builder create a rocket:\n",
    "custom_rocket = custom_rocket_Builder.build()\n",
    "\n",
    "\n",
    "sim_params = custom_rocket_Builder.to_simulation_params()\n",
    "\n",
    "simulator = WaterRocketSimulator()\n",
    "flight_data = simulator.simulate(sim_params)\n",
    "\n",
    "print(f\"Maximum altitude: {flight_data.max_altitude:.2f} m\")\n",
    "\n"
   ]
  },
  {
   "cell_type": "code",
   "execution_count": null,
   "id": "845f5f6c",
   "metadata": {},
   "outputs": [],
   "source": [
    "''"
   ]
  }
 ],
 "metadata": {
  "kernelspec": {
   "display_name": ".venv",
   "language": "python",
   "name": "python3"
  },
  "language_info": {
   "codemirror_mode": {
    "name": "ipython",
    "version": 3
   },
   "file_extension": ".py",
   "mimetype": "text/x-python",
   "name": "python",
   "nbconvert_exporter": "python",
   "pygments_lexer": "ipython3",
   "version": "3.11.9"
  }
 },
 "nbformat": 4,
 "nbformat_minor": 5
}
